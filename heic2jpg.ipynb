{
  "nbformat": 4,
  "nbformat_minor": 0,
  "metadata": {
    "colab": {
      "name": "heic2jpg.ipynb",
      "provenance": [],
      "authorship_tag": "ABX9TyNsMIEjsLK8SuAsCzcGCVh4",
      "include_colab_link": true
    },
    "kernelspec": {
      "name": "python3",
      "display_name": "Python 3"
    },
    "language_info": {
      "name": "python"
    }
  },
  "cells": [
    {
      "cell_type": "markdown",
      "metadata": {
        "id": "view-in-github",
        "colab_type": "text"
      },
      "source": [
        "<a href=\"https://colab.research.google.com/github/yakataN/NoteBoxUploadRepository/blob/main/heic2jpg.ipynb\" target=\"_parent\"><img src=\"https://colab.research.google.com/assets/colab-badge.svg\" alt=\"Open In Colab\"/></a>"
      ]
    },
    {
      "cell_type": "markdown",
      "metadata": {
        "id": "Pq0v1K0a-UFp"
      },
      "source": [
        "## HEIF形式の画像データをjpgやpngに変換する\n",
        "\n",
        "iOSやMacで使用されている画像形式であるが、Windowsのフォトで開けないなどあまりサポートされている形式とは言えない。そのため、一般的に使われるjpegやpng形式に変換することは一定の価値があると評価できる。\n",
        "\n"
      ]
    },
    {
      "cell_type": "markdown",
      "metadata": {
        "id": "ZhjY9WlMWXTp"
      },
      "source": [
        "## 材料\n",
        "\n",
        "- pyheif\n",
        "- 正規表現（ファイル名変換に使っているが、必須ではない）"
      ]
    },
    {
      "cell_type": "code",
      "metadata": {
        "colab": {
          "base_uri": "https://localhost:8080/"
        },
        "id": "PXoTQd8TwL25",
        "outputId": "17b28507-07c6-4953-aa8a-b73bf4cb2c2f"
      },
      "source": [
        "!pip install pyheif"
      ],
      "execution_count": 1,
      "outputs": [
        {
          "output_type": "stream",
          "text": [
            "Requirement already satisfied: pyheif in /usr/local/lib/python3.7/dist-packages (0.5.1)\n",
            "Requirement already satisfied: cffi>=1.0.0 in /usr/local/lib/python3.7/dist-packages (from pyheif) (1.14.6)\n",
            "Requirement already satisfied: pycparser in /usr/local/lib/python3.7/dist-packages (from cffi>=1.0.0->pyheif) (2.20)\n"
          ],
          "name": "stdout"
        }
      ]
    },
    {
      "cell_type": "code",
      "metadata": {
        "id": "vzhoS7IHvyMg"
      },
      "source": [
        "from PIL import Image\n",
        "import os\n",
        "import pyheif\n",
        "import re"
      ],
      "execution_count": 2,
      "outputs": []
    },
    {
      "cell_type": "code",
      "metadata": {
        "colab": {
          "base_uri": "https://localhost:8080/"
        },
        "id": "f4p0YY7-wku0",
        "outputId": "2061eabf-2dd3-4cb8-e986-bf5406d6d9f8"
      },
      "source": [
        "from google.colab import drive\n",
        "drive.mount('/gdrive')"
      ],
      "execution_count": 3,
      "outputs": [
        {
          "output_type": "stream",
          "text": [
            "Drive already mounted at /gdrive; to attempt to forcibly remount, call drive.mount(\"/gdrive\", force_remount=True).\n"
          ],
          "name": "stdout"
        }
      ]
    },
    {
      "cell_type": "code",
      "metadata": {
        "colab": {
          "base_uri": "https://localhost:8080/"
        },
        "id": "Fkv0x4Akw0cE",
        "outputId": "39477108-175a-4b0f-b330-f0a7f37516ca"
      },
      "source": [
        "%cd /gdrive/My Drive/Obsidian/Obsidian/resources/analog\n",
        "ls = os.listdir()"
      ],
      "execution_count": 4,
      "outputs": [
        {
          "output_type": "stream",
          "text": [
            "/gdrive/My Drive/Obsidian/Obsidian/resources/analog\n"
          ],
          "name": "stdout"
        }
      ]
    },
    {
      "cell_type": "markdown",
      "metadata": {
        "id": "IBFNyHxTWkao"
      },
      "source": [
        "## 一つのファイルを変換するcode"
      ]
    },
    {
      "cell_type": "code",
      "metadata": {
        "id": "tZl7DcgIQ-Kr"
      },
      "source": [
        "file = 'IMG_0642.HEIC'\n",
        "# 拡張子とそれ以外でファイル名を分ける\n",
        "*filename_list, ext = re.split(\"\\.\", file)\n",
        "filename = \".\".join(filename_list)\n",
        "heif_file = pyheif.read(file)\n",
        "image = Image.frombytes(\n",
        "    heif_file.mode, \n",
        "    heif_file.size,\n",
        "    heif_file.data,\n",
        "    \"raw\",\n",
        "    heif_file.mode,\n",
        "    heif_file.stride,\n",
        ")\n",
        "# 拡張子から自動的に判断されるため、第2引数は必要はないが、明示的に変換先のファイル形式を示している。\n",
        "image.save(f\"./jpg/{filename}.jpg\", \"JPEG\")\n",
        "image.save(f\"./png/{filename}.png\", \"PNG\")"
      ],
      "execution_count": 9,
      "outputs": []
    },
    {
      "cell_type": "markdown",
      "metadata": {
        "id": "tPBMc8C8WprU"
      },
      "source": [
        "## フォルダ内すべてのファイルを変換するcode"
      ]
    },
    {
      "cell_type": "code",
      "metadata": {
        "id": "dJXFAJl-wemx"
      },
      "source": [
        "os.listdir(\"./heif\")\n",
        "\n",
        "for file in ls:\n",
        "    # 拡張子とその他の部分を分ける。\n",
        "    *filename_list, ext = re.split(\"\\.\", file)\n",
        "    filename = \".\".join(filename_list)\n",
        "    #拡張子がHEICのものだけに処理を行なう。\n",
        "    if (ext == \"HEIC\"):\n",
        "        heif_file = pyheif.read(file)\n",
        "        image = Image.frombytes(\n",
        "            heif_file.mode, \n",
        "            heif_file.size, \n",
        "            heif_file.data,\n",
        "            \"raw\",\n",
        "            heif_file.mode,\n",
        "            heif_file.stride,\n",
        "            )\n",
        "        image.save(f\"./jpg/{filename}.jpg\", \"JPEG\")"
      ],
      "execution_count": null,
      "outputs": []
    }
  ]
}