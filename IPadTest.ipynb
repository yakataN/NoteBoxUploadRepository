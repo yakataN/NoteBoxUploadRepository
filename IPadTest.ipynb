{
  "nbformat": 4,
  "nbformat_minor": 0,
  "metadata": {
    "colab": {
      "name": "IPadTest.ipynb",
      "provenance": [],
      "authorship_tag": "ABX9TyPRHNJawoN6k2Vn4MoLD5o6",
      "include_colab_link": true
    },
    "kernelspec": {
      "name": "python3",
      "display_name": "Python 3"
    },
    "language_info": {
      "name": "python"
    }
  },
  "cells": [
    {
      "cell_type": "markdown",
      "metadata": {
        "id": "view-in-github",
        "colab_type": "text"
      },
      "source": [
        "<a href=\"https://colab.research.google.com/github/yakataN/NoteBoxUploadRepository/blob/main/IPadTest.ipynb\" target=\"_parent\"><img src=\"https://colab.research.google.com/assets/colab-badge.svg\" alt=\"Open In Colab\"/></a>"
      ]
    },
    {
      "cell_type": "code",
      "metadata": {
        "id": "ReyS8SVZy2Kd"
      },
      "source": [
        "#iPadでもプログラミングができる。\n",
        "# Safariまたは ChromeでGooleDrive→新規作成→Colabを選択をするだけでブラウザのタブとしてColabが開く。\n",
        "#これでDownloadまでできたら投稿が可能。GithubのAuthorizedをすればそれでもOK\n",
        "#SafariではDownloadのボタンがあったが、 Chromeでは存在しない"
      ],
      "execution_count": null,
      "outputs": []
    },
    {
      "cell_type": "code",
      "metadata": {
        "colab": {
          "base_uri": "https://localhost:8080/"
        },
        "id": "fR6NVftKzRRW",
        "outputId": "c6f6d045-24d2-4c69-9c41-ca1c03798995"
      },
      "source": [
        "print(\"Hello World!\")"
      ],
      "execution_count": null,
      "outputs": [
        {
          "output_type": "stream",
          "text": [
            "Hello World!\n"
          ],
          "name": "stdout"
        }
      ]
    },
    {
      "cell_type": "markdown",
      "metadata": {
        "id": "9c5T97H13bxm"
      },
      "source": [
        "# iPadなどのモバイル端末からNoteboxに記事を投稿する方法について\n",
        "\n",
        "## Markdownのみ\n",
        "\n",
        "1. Noteboxにログインした後、右上の「＋」→「マークダウン」をタップ\n",
        "2. 記事を書いて、詳細設定からタグを追加し、右下の「公開する」をタップすると公開できる。\n",
        "\n",
        "## Jupyter Notebookの場合\n",
        "\n",
        "本題\n",
        "\n",
        "### 材料\n",
        "\n",
        "（）内は実際に確認した環境です。\n",
        "\n",
        "- モバイル端末（iPad）\n",
        "- ブラウザ（Safari）\n",
        "- Google Colaboratoryと連携したGoogleアカウント\n",
        "- Githubアカウント\n",
        "\n",
        "### 方法\n",
        "\n",
        "1. モバイル端末でブラウザを開き、Google Colabratoryと連携したGoogleアカウントのGoogle Driveに入ります。\n",
        "2. 適当なフォルダを用意して「新規」ボタンからColaboratoryの新規ファイルを作ります。（これが記事になります）\n",
        "3. 左上のハンバーガーバーから「ノートブックをアップロード」をタップ。GithubのSign in画面が出てくるので、認証してアップロードする。\n",
        "4. [Notebox](notebox.jp)に移動し、ログイン。\n",
        "5. 右上の「＋」→「ノートブック」→「Githubから追加」をタップ。必要であれば「GITHUBと連携する」をタップして認証。「追加する」をタップ\n",
        "6. 記事が公開できているはずです。\n",
        "\n",
        "### 画像を追加する方法\n",
        "\n",
        "募集中\n",
        "\n",
        "### 追記\n",
        "\n",
        "この記事は上に記した環境で作成しました。\n",
        "\n",
        "## Todo\n",
        "方法3,4の認証を実際に行い、追記すること。\n",
        "画像を追加すること\n",
        "ほうほう6を確かめること\n",
        "\n"
      ]
    }
  ]
}