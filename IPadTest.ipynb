{
  "nbformat": 4,
  "nbformat_minor": 0,
  "metadata": {
    "colab": {
      "name": "IPadTest.ipynb",
      "provenance": [],
      "authorship_tag": "ABX9TyOdCE9BAb85Lvat1i//eTvJ",
      "include_colab_link": true
    },
    "kernelspec": {
      "name": "python3",
      "display_name": "Python 3"
    },
    "language_info": {
      "name": "python"
    }
  },
  "cells": [
    {
      "cell_type": "markdown",
      "metadata": {
        "id": "view-in-github",
        "colab_type": "text"
      },
      "source": [
        "<a href=\"https://colab.research.google.com/github/yakataN/NoteBoxUploadRepository/blob/main/IPadTest.ipynb\" target=\"_parent\"><img src=\"https://colab.research.google.com/assets/colab-badge.svg\" alt=\"Open In Colab\"/></a>"
      ]
    },
    {
      "cell_type": "markdown",
      "metadata": {
        "id": "9c5T97H13bxm"
      },
      "source": [
        "# iPadなどのモバイル端末からNoteboxに記事を投稿する方法について\n",
        "\n",
        "## Markdownのみ\n",
        "\n",
        "1. Noteboxにログインした後、右上の「＋」→「マークダウン」をタップ\n",
        "2. 記事を書いて、詳細設定からタグを追加し、右下の「公開する」をタップすると公開できる。\n",
        "\n",
        "## Jupyter Notebookの場合\n",
        "\n",
        "本題はこちら\n",
        "\n",
        "### 材料\n",
        "\n",
        "（）内は実際に確認した環境です。\n",
        "\n",
        "- モバイル端末（iPad）\n",
        "- ブラウザ（Safari、Chrome）\n",
        "- Google Colaboratoryと連携したGoogleアカウント\n",
        "- Githubアカウント\n",
        "\n",
        "### 方法\n",
        "\n",
        "1. モバイル端末でブラウザを開き、Google Colabratoryと連携したGoogleアカウントのGoogle Driveに入ります。\n",
        "2. 適当なフォルダを用意して「新規」ボタンからColaboratoryの新規ファイルを作ります。（これが記事になります）\n",
        "3. 左上のハンバーガーボタンから「ファイル」→「Githubにコピーを保存」をタップ。まだ認証していなければ、GithubのSign in画面が出てくるので、認証する。\n",
        "4. リポジトリとブランチを選んでアップロード\n",
        "4. [Notebox](notebox.jp)に移動し、ログイン。\n",
        "5. 右上の「＋」→「ノートブック」→「Githubから追加」をタップ。まだ認証していなければ「GITHUBと連携する」をタップして認証。「追加する」をタップ\n",
        "6. 記事が読み込まれるので、微修正して「公開する」をタップ\n",
        "\n",
        "### 追記\n",
        "\n",
        "この記事は上に記した環境で作成しました。\n",
        "\n",
        "\n"
      ]
    }
  ]
}